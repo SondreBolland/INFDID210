{
 "cells": [
  {
   "cell_type": "markdown",
   "id": "199a6ac4-fed7-40c1-94b4-dfaaedcd8c5d",
   "metadata": {},
   "source": [
    "# Assessment - INFDID210\n",
    "This Notebook is an assignment for the course INFDID210 on the topic of Assessment. \n",
    "\n",
    "Author: Sondre Sæther Bolland\n",
    "\n",
    "Institution: Department of Informatics, University of Bergen\n",
    "\n",
    "Email: sondre.bolland@uib.no\n",
    "\n",
    "Date: 09.04.2024"
   ]
  },
  {
   "cell_type": "markdown",
   "id": "cc65f9e0-657f-423c-bf07-e6c925a14c93",
   "metadata": {},
   "source": [
    "# Assignment:\n",
    "1. Design a computational thinking task for a subject other than CS, suitable for a beginner programming audience.\n",
    "2. Think about the different question types from chapter 12. Which ones would you use to test students on the skills they learned from your task? Why those?"
   ]
  },
  {
   "cell_type": "markdown",
   "id": "d65ba8d5-92b8-431d-851c-db1e7bbe8de2",
   "metadata": {},
   "source": [
    "## Bouncing Ball - Computational Thinking Task\n",
    "In this task we want to explore the physics of a bouncing ball.\n",
    "\n",
    "This task featured the disipline of physics. More specifically, Mechanics. The task aims to highlight computational thinking in the context of a bouncing ball. How can we describe each time step of a ball falling towards the ground and bouncing up again. The students are given a set of formulaes and constants in mathematical notation which they are to use in their discription of this process. "
   ]
  },
  {
   "cell_type": "markdown",
   "id": "d832c0e3-cbd0-40ce-bf30-7675ae23efbe",
   "metadata": {},
   "source": [
    "### What happens when you drop a ball?\n",
    "When we drop a ball it goes through the following stages (simplified):\n",
    "1. The ball is dropped from a height `Y`. Gravity forces the ball towards the ground. The ball has negative volocity in this stage.\n",
    "2. The ball hits the ground at height `0`. At this moment it's velocity is `0`. As per Newton's third law:\n",
    "   ```\n",
    "   \"Every force or action has an equal and opposite reaction.\"\n",
    "   ```\n",
    "   the ball is pushed upwards off the ground, with positive volocity.\n",
    "4. As the ball travels upwards it reaches its maximal displacement, decelerates, and changes the direction of motion from upwards to downwards.\n",
    "\n",
    "These stages are repeated while the ball experiences damping, where it loses potential energy and kinetic energy as it falls. This causes the amplitude of the height to reduce over time and eventually come to a stop.\n",
    "\n",
    "<img src=\"images/bouncingBall.png\" alt=\"drawing\" width=\"600\"/>\n",
    "\n",
    "\n",
    "\n",
    "Source: https://www.studysmarter.co.uk/explanations/physics/mechanics-and-materials/bouncing-ball-example/"
   ]
  },
  {
   "cell_type": "markdown",
   "id": "5140da8d-b2d4-4a56-99ae-042d2e3d7560",
   "metadata": {},
   "source": [
    "### Some formulaes that might be useful\n",
    "Calculate velocity:\n",
    "\n",
    "$v = v_0 + a*t$\n",
    "- $v$ = Velocity\n",
    "- $v_0$ = Initial velocity\n",
    "- $a$ = acceleration\n",
    "- $t$ = time\n",
    "\n",
    "Calculate distance:\n",
    "\n",
    "$d = d_0 + v*t$\n",
    "- $d$ = Distance\n",
    "- $d_0$ = Initial distance\n",
    "- $V$ = Velocity\n",
    "- $t$ = time"
   ]
  },
  {
   "cell_type": "markdown",
   "id": "036857b9-39f7-4b6d-8ba9-965f20fca1a4",
   "metadata": {},
   "source": [
    "### Task 1\n",
    "Consider a ball that is dropped towards the ground and is bouncing up and down. **Let us assume that there is no loss of energy.** The ball does not experience damping and there is not friction, such as air resistance. \n",
    "\n",
    "In groups of 3, write a step by step description of the ball's mechanics, where you calculate the velocity and height of the ball for each time step. You should consider each stage described in the introduction. Use the following constants:"
   ]
  },
  {
   "cell_type": "markdown",
   "id": "81aeb3dc-dcf3-4189-9e70-34ef19ea0fc6",
   "metadata": {},
   "source": [
    "- Gravity: $g$\n",
    "- Height of the ball: $h$\n",
    "- Velocity of the ball: $v$"
   ]
  },
  {
   "cell_type": "markdown",
   "id": "df4692c8-ed42-41b6-bcda-17a8dd496b6f",
   "metadata": {},
   "source": [
    "### Task 2\n",
    "Let us assume that the ball loses a bit of potential energy for each bounce due to its elasticity. We now add a constant $elasticity$. This means that for each bounce the ball should loose some of its velocity.\n",
    "\n",
    "Change your description of the ball's mechanics from Task 1 such that your simulation takes into account the balls elasticity. Use the following constants:"
   ]
  },
  {
   "cell_type": "markdown",
   "id": "80f6a12a-4362-40cf-84b0-6cb21d55daec",
   "metadata": {},
   "source": [
    "- Gravity: $g$\n",
    "- Height of the ball: $h$\n",
    "- Velocity of the ball: $v$\n",
    "- Elasticity of the ball: $elasticity$"
   ]
  },
  {
   "cell_type": "markdown",
   "id": "a44fe021-25e2-412c-ae29-5e9817426bbe",
   "metadata": {},
   "source": [
    "### Discussion\n",
    "This task seeks to utilize four pedalogical theories which highlights the cognitive, social, and pedagogical facets of computational thinking  [1, p. 60].\n",
    "- *Constructivism* as it emphasizes the building of learners’ knowledge via active-learning processes\n",
    "- *Social constructivism* as it utilizes cooperative group work\n",
    "- *Constructionism* as they create a computational product that represents the learned concept.\n",
    "- *Context-based learning* as the concept is learned and built up in a relevant context"
   ]
  },
  {
   "cell_type": "markdown",
   "id": "f9efa01f-e381-4e92-b24b-f0d6124e388b",
   "metadata": {},
   "source": [
    "## Testing the students 1\n",
    "A relevant form of assessment following this computational thinking task is question type 1 [1, p. 254]. \n",
    "```\n",
    "A development question presents an open problem in which learners are required to develop their solution to a given problem. The solution can be expressed by a descriptive algorithm, pseudo-code, or a program in a specific programming language.\n",
    "```\n",
    "\n",
    "To see if their formal discription of the ball bouncing it would be of use for them to actually execute their formalization. This can be done by giving them the same task, but use Python to simulate the process. With the assumption the students are somewhat proficient in programming, it should be a somewhat easy process to translate their natural language description into something executable.\n",
    "\n",
    "\n",
    "The following cells show a possible solution for such a task."
   ]
  },
  {
   "cell_type": "markdown",
   "id": "a7d4f8b9-d077-467c-babf-3bbfc9dda133",
   "metadata": {},
   "source": [
    "### Task 1 - Sample Solution"
   ]
  },
  {
   "cell_type": "code",
   "execution_count": 77,
   "id": "86b94ab2-709d-41d6-90bc-517890be0e87",
   "metadata": {},
   "outputs": [
    {
     "name": "stdout",
     "output_type": "stream",
     "text": [
      "Height:     100.00, Velocity:     -10.00\n",
      "Height:      90.00, Velocity:     -20.00\n",
      "Height:      70.00, Velocity:     -30.00\n",
      "Height:      40.00, Velocity:     -40.00\n",
      "Height:       0.00, Velocity:      40.00\n",
      "Height:      40.00, Velocity:      30.00\n",
      "Height:      70.00, Velocity:      20.00\n",
      "Height:      90.00, Velocity:      10.00\n",
      "Height:     100.00, Velocity:       0.00\n",
      "Height:     100.00, Velocity:     -10.00\n",
      "Height:      90.00, Velocity:     -20.00\n",
      "Height:      70.00, Velocity:     -30.00\n",
      "Height:      40.00, Velocity:     -40.00\n",
      "Height:       0.00, Velocity:      40.00\n",
      "Height:      40.00, Velocity:      30.00\n",
      "Height:      70.00, Velocity:      20.00\n",
      "Height:      90.00, Velocity:      10.00\n",
      "Height:     100.00, Velocity:       0.00\n",
      "Height:     100.00, Velocity:     -10.00\n",
      "Height:      90.00, Velocity:     -20.00\n"
     ]
    }
   ],
   "source": [
    "# Constants\n",
    "g = -10 # Gravity\n",
    "T = 20 # Total time steps\n",
    "\n",
    "# Starting point\n",
    "height = 100\n",
    "velocity = 0 \n",
    "\n",
    "for i in range(T):\n",
    "    height = height + velocity\n",
    "    # Hits floor \n",
    "    if height <= 0:\n",
    "        height = 0\n",
    "        velocity *= -1 # Flip velocity when it bounces\n",
    "    else:\n",
    "        velocity = velocity + g\n",
    "    \n",
    "    print(f'Height: {height:10.2f}, Velocity: {velocity:10.2f}')"
   ]
  },
  {
   "cell_type": "markdown",
   "id": "dc396048-f140-4822-a823-53d0e31a515e",
   "metadata": {},
   "source": [
    "### Task 2 - Sample Solution"
   ]
  },
  {
   "cell_type": "code",
   "execution_count": 76,
   "id": "1ee1f3d2-2770-4002-bb81-a9974fab97ec",
   "metadata": {},
   "outputs": [
    {
     "name": "stdout",
     "output_type": "stream",
     "text": [
      "Height: 100.00, Velocity: -10.00\n",
      "Height: 90.00, Velocity: -20.00\n",
      "Height: 70.00, Velocity: -30.00\n",
      "Height: 40.00, Velocity: -40.00\n",
      "Height: 0.00, Velocity: 36.00\n",
      "Height: 36.00, Velocity: 26.00\n",
      "Height: 62.00, Velocity: 16.00\n",
      "Height: 78.00, Velocity: 6.00\n",
      "Height: 84.00, Velocity: -4.00\n",
      "Height: 80.00, Velocity: -14.00\n",
      "Height: 66.00, Velocity: -24.00\n",
      "Height: 42.00, Velocity: -34.00\n",
      "Height: 8.00, Velocity: -44.00\n",
      "Height: 0.00, Velocity: 39.60\n",
      "Height: 39.60, Velocity: 29.60\n",
      "Height: 69.20, Velocity: 19.60\n",
      "Height: 88.80, Velocity: 9.60\n",
      "Height: 98.40, Velocity: -0.40\n",
      "Height: 98.00, Velocity: -10.40\n",
      "Height: 87.60, Velocity: -20.40\n"
     ]
    }
   ],
   "source": [
    "# Constants\n",
    "g = -10 # Gravity\n",
    "T = 20 # Total time steps\n",
    "ball_elasticity = 0.9\n",
    "\n",
    "# Starting point\n",
    "height = 100\n",
    "velocity = 0 \n",
    "\n",
    "for i in range(T):\n",
    "    height = height + velocity\n",
    "    # Hits floor \n",
    "    if height <= 0:\n",
    "        height = 0\n",
    "        velocity *= ball_elasticity # THIS LINE\n",
    "        velocity *= -1 # Flip velocity when it bounces\n",
    "    else:\n",
    "        velocity = velocity + g\n",
    "    \n",
    "    print(f'Height: {height:3.2f}, Velocity: {velocity:3.2f}')"
   ]
  },
  {
   "cell_type": "markdown",
   "id": "7c646c9e-771c-427e-bff3-e6167643b03a",
   "metadata": {},
   "source": [
    "## Testing the students 2\n",
    "Another question type which could be used is Type6: Examination of the Correctness\n",
    "of a Given Solution [1, p. 257]. \n",
    "```\n",
    "A given problem and its solution are presented. The student is asked to\n",
    "determine whether the given solution solves the given problem correctly.\n",
    "```\n",
    "In this instance the code above could be presented with a few errors. This would require the student to identify any misallignments between their description (given that they have a correct one) and the proposed solution. By the use of this question type the students are able to utilize their understanding of the original problem and apply it to the coded solution. "
   ]
  },
  {
   "cell_type": "markdown",
   "id": "1c46b9bd-4775-4b15-a12b-54b8a8b8b182",
   "metadata": {},
   "source": [
    "## References\n",
    "[1] Hazzan, O., Ragonis, N., Lapidot, T.: Guide to Teaching Computer Science. Springer (Jul). https://doi.org/10.1007/978-3-030-39360-1\n",
    "[2] The example of the bouncing ball in physics. *Study Smarter*. Retrieved April 9, 2024 from https://www.studysmarter.co.uk/explanations/physics/mechanics-and-materials/bouncing-ball-example/ "
   ]
  }
 ],
 "metadata": {
  "kernelspec": {
   "display_name": "Python 3 (ipykernel)",
   "language": "python",
   "name": "python3"
  },
  "language_info": {
   "codemirror_mode": {
    "name": "ipython",
    "version": 3
   },
   "file_extension": ".py",
   "mimetype": "text/x-python",
   "name": "python",
   "nbconvert_exporter": "python",
   "pygments_lexer": "ipython3",
   "version": "3.8.1"
  }
 },
 "nbformat": 4,
 "nbformat_minor": 5
}
